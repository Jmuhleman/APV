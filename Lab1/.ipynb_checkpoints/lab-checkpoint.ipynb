{
 "cells": [
  {
   "cell_type": "markdown",
   "id": "bae01423",
   "metadata": {},
   "source": [
    "# Apprentissage supervisé"
   ]
  },
  {
   "cell_type": "markdown",
   "id": "f68c4cd2",
   "metadata": {},
   "source": [
    "## Travail Pratique 01 - Régression linéaire à une variable"
   ]
  },
  {
   "cell_type": "markdown",
   "id": "d746c1f2",
   "metadata": {},
   "source": [
    "\n",
    "<div class=\"alert alert-block alert-success\">\n",
    "<b>Informations générales </b>\n",
    "</div>\n",
    "\n",
    "**Professeur**: Stephan Robert\n",
    "\n",
    "**Assistant(s)**: Arthur Babey\n",
    "\n",
    "**Contact**: stephan.o.robert@gmail.com, arthur.babey@heig-vd.ch ou via Teams\n",
    "\n",
    "**Rendu**:\n",
    "\n",
    "- Date: 1 octobre 2024\n",
    "\n",
    "- Modalité: Travail individuel. Une fois complétées et toutes les cellules exécutées, renommer le fichier en remplaçant Nom et Prenom par les votres \"**TP1_APV_S1-2024_Reponses_Nom_Prenom.ipynb**\" puis uploader votre fichier sur Cyberlearn.\n",
    "\n",
    "- Note: Ce TP est noté sur 6, pour un poids de 12.5%\n",
    "\n",
    "**Étudiant**:\n",
    "\n",
    "- Julien Muhlemann\n",
    "\n",
    "<div class=\"alert alert-block alert-success\">\n",
    "<b>But du TP </b>\n",
    "</div>\n",
    "\n",
    "Le but de ce premier TP est d'étudier la régression linéaire à une seule variable. \n",
    "\n",
    "<!---\n",
    "<div class=\"alert alert-block alert-info\">\n",
    "<b>Rappel </b>\n",
    "</div>\n",
    "-->\n",
    "\n",
    "<div class=\"alert alert-block alert-success\">\n",
    "<b>Table des matières </b>\n",
    "</div>\n",
    "\n",
    "1. Fonction Python simple\n",
    "\n",
    "2. Régression linéaire à une variable\n",
    ">* Visualisation des données\n",
    ">* Loss function\n",
    ">* Descente du gradient\n",
    "3. Sensibilité aux valeurs abberantes\n",
    "4. Gestion des valeurs abberantes\n",
    "4. Anscombe's quartet\n",
    "\n",
    "<div class=\"alert alert-block alert-success\">\n",
    "<b>Sources </b>\n",
    "</div>\n",
    "\n",
    "N'hésitez pas à utiliser des Cheat sheets et google pour (re)trouver rapidement certaines informations. Habituez vous aux sources fiables comme la documentation et les tutos officiels, puis migrez vers Stackoverflow pour les questions plus complexes. Si vous cherchez uniquement des informations sur la syntaxe, il n'y a pas besoin de citer vos sources. En revanche si vous trouvez des solutions complexes à certains problèmes, citez vos sources dans un commentaire dans le code par exemple. Cela vous permet d'éviter des accusations de plagiat et vous permet surtout de retrouver d'où viennent vos solutions. Néanmoins le but de ces petits exercices est de vous faire comprendre comment fonctionnent les algorithmes et à ce titre nous pensons qu'il est plus utile pour vous de passer du temps à programmer plutôt qu'à chercher des solutions toutes faites sur internet. "
   ]
  },
  {
   "cell_type": "markdown",
   "id": "6844b18f",
   "metadata": {},
   "source": [
    "## 1. Fonction Python simple"
   ]
  },
  {
   "cell_type": "markdown",
   "id": "c203108a",
   "metadata": {},
   "source": [
    "Commençons par importer les packages que nous allons utiliser plus tard."
   ]
  },
  {
   "cell_type": "code",
   "execution_count": 1,
   "id": "7fd75a08",
   "metadata": {},
   "outputs": [],
   "source": [
    "import numpy as np\n",
    "import pandas\n",
    "import matplotlib as mpl\n",
    "import matplotlib.pyplot as plt\n",
    "from matplotlib import rc\n",
    "from matplotlib import cm\n",
    "from sklearn.cluster import KMeans"
   ]
  },
  {
   "cell_type": "markdown",
   "id": "13319716",
   "metadata": {},
   "source": [
    "En utilisant ces packages, il est très facile de faire de tracer des graphes. Par exemple"
   ]
  },
  {
   "cell_type": "code",
   "execution_count": 2,
   "id": "9458c886",
   "metadata": {},
   "outputs": [
    {
     "data": {
      "text/plain": [
       "Text(0, 0.5, '$f(x) = e^{x}$')"
      ]
     },
     "execution_count": 2,
     "metadata": {},
     "output_type": "execute_result"
    },
    {
     "data": {
      "image/png": "[encoded data removed]",
      "text/plain": [
       "<Figure size 432x288 with 1 Axes>"
      ]
     },
     "metadata": {
      "needs_background": "light"
     },
     "output_type": "display_data"
    }
   ],
   "source": [
    "X = np.linspace(-2, 2, 20)\n",
    "Y = np.exp(X)\n",
    "plt.figure()\n",
    "plt.plot(X, Y)\n",
    "plt.title('Exponential function')\n",
    "plt.xlabel('x')\n",
    "plt.ylabel(r'$f(x) = e^{x}$')"
   ]
  },
  {
   "cell_type": "markdown",
   "id": "e3b33dac",
   "metadata": {},
   "source": [
    "## 2. Régression linéaire à une variable"
   ]
  },
  {
   "cell_type": "markdown",
   "id": "4cc3a998",
   "metadata": {},
   "source": [
    "Supposons que nous possédons une chaîne de food truck et que nous souhaitons ouvrir un food truck dans une nouvelle ville. Nous possédons l'historique du profit des food truck en fonction de la population de la ville. En utilisant ces données, nous souhaiterions décider du meilleur endroit pour implenter un nouveau food truck."
   ]
  },
  {
   "cell_type": "markdown",
   "id": "2acd68e7",
   "metadata": {},
   "source": [
    "Le fichier ex1data1.txt contient les données que nous allons utiliser. La première colonne est la population de la ville et la deuxième le profit généré par le food truck de cette ville. Une valeur négative indique une perte."
   ]
  },
  {
   "cell_type": "markdown",
   "id": "aafe4dea",
   "metadata": {},
   "source": [
    "### 2.1 Visualisation des données"
   ]
  },
  {
   "cell_type": "markdown",
   "id": "edd8ba18",
   "metadata": {},
   "source": [
    "Avant de commencer, nous allons visualiser les données."
   ]
  },
  {
   "cell_type": "code",
   "execution_count": 3,
   "id": "4bbe3797",
   "metadata": {},
   "outputs": [
    {
     "data": {
      "text/plain": [
       "Text(0, 0.5, 'Profit of City in 10,000s')"
      ]
     },
     "execution_count": 3,
     "metadata": {},
     "output_type": "execute_result"
    },
    {
     "data": {
      "image/png": "[encoded data removed]",
      "text/plain": [
       "<Figure size 432x288 with 1 Axes>"
      ]
     },
     "metadata": {
      "needs_background": "light"
     },
     "output_type": "display_data"
    }
   ],
   "source": [
    "# loading the data\n",
    "data = np.loadtxt('ex1data1.txt', delimiter=',', unpack=True)\n",
    "\n",
    "# TODO: tracer les données afin d'obtenir quelque chose qui ressemble à la figure ci-dessous"
   ]
  },
  {
   "cell_type": "markdown",
   "id": "a1e0a533",
   "metadata": {},
   "source": [
    "### 2.2 Loss function"
   ]
  },
  {
   "cell_type": "markdown",
   "id": "2588989b",
   "metadata": {},
   "source": [
    "Rappelons que le but de la regression linéaire est de minimiser la fonction\n",
    "$$\n",
    "J(\\mathbf{\\Theta}) = J(\\theta_{0}, \\theta_{1}) = \\frac{1}{2m}  \\sum_{i=1}^{m} (f(x_{i}) - y_{i})^{2}\n",
    "$$\n",
    "où la fonction $f$ est de la forme $f(x) = \\theta_{1}x + \\theta_{0}$. Nous devons donc déterminer $\\mathbf{\\Theta}$ pour minimiser $J$. Afin de faire cela, nous pouvons utiliser la méthode du gradient."
   ]
  },
  {
   "cell_type": "markdown",
   "id": "4e0a2694",
   "metadata": {},
   "source": [
    "Plus précisément, après avoir initialiser aléatoirement $\\theta_{0}^{0}$ ainsi que $\\theta_{1}^{0}$, on applique les itérations suivantes\n",
    "\\begin{equation}\n",
    "\\theta_{0}^{k} = \\theta_{0}^{k-1} - \\frac{\\alpha}{m}\\sum_{i=1}^{m} (\\theta_{0}^{k-1} + \\theta_{1}^{k-1}x_{i} - y_{i})\n",
    "\\end{equation}\n",
    "ainsi que\n",
    "\\begin{equation}\n",
    "\\theta_{1}^{k} = \\theta_{1}^{k-1} - \\frac{\\alpha}{m}\\sum_{i=1}^{m} (\\theta_{0}^{k-1} + \\theta_{1}^{k-1}x_{i} - y_{i})x_{i}\n",
    "\\end{equation}"
   ]
  },
  {
   "cell_type": "markdown",
   "id": "fbb3ed05",
   "metadata": {},
   "source": [
    "Nous allons maintenant implémenter cette loss fonction $J$ ainsi que l'interpolation linéaire $f$. Ces deux fonctions, nous seront utiles pour la suite de ce TP."
   ]
  },
  {
   "cell_type": "code",
   "execution_count": 4,
   "id": "513f8d85",
   "metadata": {},
   "outputs": [],
   "source": [
    "def linear_interpolation(x, theta):\n",
    "     # TODO implémenter cette fonction. Theta est un vecteur de dimension 2."
   ]
  },
  {
   "cell_type": "code",
   "execution_count": 5,
   "id": "6b1b2778",
   "metadata": {},
   "outputs": [],
   "source": [
    "def lossFunction(data, theta):\n",
    "    \"\"\"\n",
    "    data: data points, data[0] are expected to be x, and data[1] y\n",
    "    theta: value for theta (which is a vector of length 2)\n",
    "    \"\"\"\n",
    "    # TODO : implémenter cette fonction"
   ]
  },
  {
   "cell_type": "markdown",
   "id": "2ab871bf",
   "metadata": {},
   "source": [
    "Normalement, pour $\\theta_{0} = \\theta_{1} = 0$ et la loss fonction devrait retourner une valeur d'environ $32.072$"
   ]
  },
  {
   "cell_type": "code",
   "execution_count": 6,
   "id": "ffc68695",
   "metadata": {},
   "outputs": [
    {
     "data": {
      "text/plain": [
       "32.072733877455676"
      ]
     },
     "execution_count": 6,
     "metadata": {},
     "output_type": "execute_result"
    }
   ],
   "source": [
    "lossFunction(data, [0, 0])"
   ]
  },
  {
   "cell_type": "markdown",
   "id": "2fb7368d",
   "metadata": {},
   "source": [
    "### 2.3 Descent du gradient"
   ]
  },
  {
   "cell_type": "markdown",
   "id": "14c24075",
   "metadata": {},
   "source": [
    "Maintenan, nous allons implémenter le calcul du gradient en utilisant les équations présentées ci-dessus."
   ]
  },
  {
   "cell_type": "code",
   "execution_count": 7,
   "id": "d930b548",
   "metadata": {},
   "outputs": [],
   "source": [
    "def gradientDescent(data, theta, alpha, epsilon):\n",
    "    \"\"\"\n",
    "    points: data points, data[0] are expected to be the x, and data[1] the y\n",
    "    theta: initial value for theta (which is a vector of length 2)\n",
    "    alpha: learning rate\n",
    "    epsilon: stopping criteria. We stop the training when the difference betwenn the new and the old theta \n",
    "    is smaller than epsilon.\n",
    "    \"\"\"\n",
    "    # TODO: implémenter cette fonction"
   ]
  },
  {
   "cell_type": "markdown",
   "id": "9ecaa14a",
   "metadata": {},
   "source": [
    "En utilisant cett fonction, nous pouvons donc déterminer un $\\Theta_{\\text{opt}}$, qui, espérons-le, sera optimal. (Rappelons que la descente du gradient n'a pas de gurarantie de convergence)."
   ]
  },
  {
   "cell_type": "code",
   "execution_count": 8,
   "id": "7524e130",
   "metadata": {},
   "outputs": [
    {
     "name": "stdout",
     "output_type": "stream",
     "text": [
      "The computed theta we found is  [-3.341040078572962, 1.1373039136830598]\n"
     ]
    }
   ],
   "source": [
    "alpha = 0.0001\n",
    "epsilon = 1e-5\n",
    "theta_0 = [0, 0]\n",
    "theta_opt = gradientDescent(data, theta_0, alpha, epsilon)\n",
    "print('The computed theta we found is ', theta_opt)"
   ]
  },
  {
   "cell_type": "markdown",
   "id": "81e0ace3",
   "metadata": {},
   "source": [
    "Maintenant, en utilisant ce paramètre $\\Theta_{\\text{opt}}$, nous allons tracer notre régression linéaire."
   ]
  },
  {
   "cell_type": "code",
   "execution_count": 9,
   "id": "0bff3581",
   "metadata": {},
   "outputs": [
    {
     "data": {
      "text/plain": [
       "<matplotlib.legend.Legend at 0x1ce234725b0>"
      ]
     },
     "execution_count": 9,
     "metadata": {},
     "output_type": "execute_result"
    },
    {
     "data": {
      "image/png": "[encoded data removed]",
      "text/plain": [
       "<Figure size 432x288 with 1 Axes>"
      ]
     },
     "metadata": {
      "needs_background": "light"
     },
     "output_type": "display_data"
    }
   ],
   "source": [
    "# TODO: faire un plot des données d'entraînement ainsi que de la régression linéaire qui minimise la loss fonction\n",
    "# normalement vous devriez trouver quelque chose qui ressemble à la figure ci-dessous."
   ]
  },
  {
   "cell_type": "markdown",
   "id": "e1536e59",
   "metadata": {},
   "source": [
    "## 3. Sensibilité aux valeurs aberrantes"
   ]
  },
  {
   "cell_type": "markdown",
   "id": "c811b408",
   "metadata": {},
   "source": [
    "Supposons maintenant qu'il y a eu quelques erreurs et qu'on a accidentellement rajouté un profit de $100$ aux $10$ premières données. "
   ]
  },
  {
   "cell_type": "code",
   "execution_count": 10,
   "id": "9ff9ca00",
   "metadata": {},
   "outputs": [],
   "source": [
    "data = np.loadtxt('ex1data1.txt', delimiter=',', unpack=True)\n",
    "\n",
    "data_y = data[1]\n",
    "data_y[:10] = data_y[:10] + 100\n",
    "data_with_outliers = [data[0], data_y]"
   ]
  },
  {
   "cell_type": "markdown",
   "id": "6653b716",
   "metadata": {},
   "source": [
    "Pour comprendre ce qui a changé, il est toujours utile de visualiser les données."
   ]
  },
  {
   "cell_type": "code",
   "execution_count": 11,
   "id": "f1e77fec",
   "metadata": {},
   "outputs": [
    {
     "data": {
      "text/plain": [
       "Text(0, 0.5, 'Profit of City in 10,000s')"
      ]
     },
     "execution_count": 11,
     "metadata": {},
     "output_type": "execute_result"
    },
    {
     "data": {
      "image/png": "[encoded data removed]",
      "text/plain": [
       "<Figure size 432x288 with 1 Axes>"
      ]
     },
     "metadata": {
      "needs_background": "light"
     },
     "output_type": "display_data"
    }
   ],
   "source": [
    "# TODO: comme avant, faire un plot de ces nouvelles données."
   ]
  },
  {
   "cell_type": "markdown",
   "id": "d906c7de",
   "metadata": {},
   "source": [
    "Ensuite et comme avant, on peut déterminer un $\\Theta_{\\text{opt}}$ pour ce nouveaux dataset et tracer la regression qui en découle."
   ]
  },
  {
   "cell_type": "code",
   "execution_count": 12,
   "id": "e1973ac7",
   "metadata": {},
   "outputs": [],
   "source": [
    "alpha = 0.0001\n",
    "epsilon = 1e-5\n",
    "theta_0 = [0, 0]\n",
    "theta_opt = gradientDescent(data_with_outliers, theta_0, alpha, epsilon)"
   ]
  },
  {
   "cell_type": "code",
   "execution_count": 13,
   "id": "6f79b7a3",
   "metadata": {},
   "outputs": [
    {
     "data": {
      "text/plain": [
       "<matplotlib.legend.Legend at 0x1ce23562190>"
      ]
     },
     "execution_count": 13,
     "metadata": {},
     "output_type": "execute_result"
    },
    {
     "data": {
      "image/png": "[encoded data removed]",
      "text/plain": [
       "<Figure size 432x288 with 1 Axes>"
      ]
     },
     "metadata": {
      "needs_background": "light"
     },
     "output_type": "display_data"
    }
   ],
   "source": [
    "# TODO: faire un plot des données ainsi que de la regression linéaire"
   ]
  },
  {
   "cell_type": "markdown",
   "id": "6270fd2d",
   "metadata": {},
   "source": [
    "Et si on trace notre régression linéaire en ne tenant pas compte des valeurs aberrantes."
   ]
  },
  {
   "cell_type": "code",
   "execution_count": 14,
   "id": "f6f1c967",
   "metadata": {},
   "outputs": [
    {
     "data": {
      "text/plain": [
       "<matplotlib.legend.Legend at 0x1ce235b3dc0>"
      ]
     },
     "execution_count": 14,
     "metadata": {},
     "output_type": "execute_result"
    },
    {
     "data": {
      "image/png": "[encoded data removed]",
      "text/plain": [
       "<Figure size 432x288 with 1 Axes>"
      ]
     },
     "metadata": {
      "needs_background": "light"
     },
     "output_type": "display_data"
    }
   ],
   "source": [
    "# TODO: tracer le même graphe que ci-dessus mais sans tenir compte des valeurs aberrantes"
   ]
  },
  {
   "cell_type": "markdown",
   "id": "18e3fe86",
   "metadata": {},
   "source": [
    "Comme vous pouvez l'observer en comparant cette figure et la figure obtenue à l'exercice, notre modèle a été perturbé par l'ajouts de ces quelques valeurs aberrantes. D'un point de vue, théorique cela est assez clair. Sauriez-vous expliquer pourquoi?"
   ]
  },
  {
   "cell_type": "markdown",
   "id": "1a12fe12",
   "metadata": {},
   "source": [
    "## 4. Gestion des valeurs aberrantes"
   ]
  },
  {
   "cell_type": "markdown",
   "id": "d49af65a",
   "metadata": {},
   "source": [
    "Dans notre situation, et comme nous travaillons dans un espace à deux dimensions nous pouvons juste faire un plot des données et il sera évident que notre jeux de donnée contient des valeurs aberrantes. Mais de manière générale il n'est pas possible de faire cela.\n",
    "\n",
    "Plus généralement, une approche pour essayer de déterminer si le dataset contient des données abberrantes consisite à utiliser un algorithme de clustering, comme par exemple k-mean.  Nous allons donc faire cela en utilisant deux clusters."
   ]
  },
  {
   "cell_type": "code",
   "execution_count": null,
   "id": "0842f839",
   "metadata": {},
   "outputs": [],
   "source": [
    "# TODO: utiliser KMeans de scikit avec n_clusters=2 afin de séparer les données contenants les outilers \n",
    "# (i.e. data_with_outliers) en deux groupes"
   ]
  },
  {
   "cell_type": "markdown",
   "id": "f9773867",
   "metadata": {},
   "source": [
    "Après avois déterminer ces deux clusters, nous allons les représenter graphiquement pour voir ce que nous avons trouvé."
   ]
  },
  {
   "cell_type": "code",
   "execution_count": 18,
   "id": "2c7a43cc",
   "metadata": {},
   "outputs": [
    {
     "data": {
      "text/plain": [
       "Text(0, 0.5, 'Profit of City in 10,000s')"
      ]
     },
     "execution_count": 18,
     "metadata": {},
     "output_type": "execute_result"
    },
    {
     "data": {
      "image/png": "[encoded data removed]",
      "text/plain": [
       "<Figure size 432x288 with 1 Axes>"
      ]
     },
     "metadata": {
      "needs_background": "light"
     },
     "output_type": "display_data"
    }
   ],
   "source": [
    "# TODO: faire un plot de ces deux clusters"
   ]
  },
  {
   "cell_type": "markdown",
   "id": "3db63bbf",
   "metadata": {},
   "source": [
    "Sans surprise, nous avons trouvé les deux clusters trouvés par k-mean séparent les valeurs aberrantes des autres. En étudiant plus précisément les données obtenus dans chaque cluster, nous pourrions nous rendre compte que les valeurs contenues dans le premier cluster correspond à des valeurs aberrantes. Nous pourrions alors décider de ne pas pas prendre compte de ces valeurs et construire une régression linéaire comme au point $2$ de ce TP."
   ]
  },
  {
   "cell_type": "markdown",
   "id": "ae018e9d",
   "metadata": {},
   "source": [
    "Supposons maintenant que les données présentes dans les deux premiers clusters ne sont pas des données aberrantes. Nous observons deux cluster clairement séparés car ils correspondent à deux groupes de populations avec des différences bien spécifiques. Par exemple correspondant à deux pays différents. Dans cette situation, il serait sans doute plus pertinent de construire deux régressions linéaire différentes: une pour chaque cluster. C'est ce que nous allons faire maintenant."
   ]
  },
  {
   "cell_type": "code",
   "execution_count": 1,
   "id": "9a9e41b8",
   "metadata": {},
   "outputs": [],
   "source": [
    "# TODO: calculer les paramètres optimaux de la régression linéaire sur le premier cluster"
   ]
  },
  {
   "cell_type": "code",
   "execution_count": 2,
   "id": "94e22c05",
   "metadata": {},
   "outputs": [],
   "source": [
    "# TODO: calculer les paramètres optimaux de la régression linéaire sur le deuxième cluster"
   ]
  },
  {
   "cell_type": "markdown",
   "id": "514cbce0",
   "metadata": {},
   "source": [
    "Finallement, nous allons tracer les régressions obtenues."
   ]
  },
  {
   "cell_type": "code",
   "execution_count": 218,
   "id": "2d79a95a",
   "metadata": {},
   "outputs": [
    {
     "data": {
      "text/plain": [
       "Text(0, 0.5, 'Profit of City in 10,000s')"
      ]
     },
     "execution_count": 218,
     "metadata": {},
     "output_type": "execute_result"
    },
    {
     "data": {
      "image/png": "[encoded data removed]",
      "text/plain": [
       "<Figure size 432x288 with 1 Axes>"
      ]
     },
     "metadata": {
      "needs_background": "light"
     },
     "output_type": "display_data"
    }
   ],
   "source": [
    "# TODO: tracer les régressions linéaires obtenues"
   ]
  },
  {
   "cell_type": "markdown",
   "id": "fccf7dc9",
   "metadata": {},
   "source": [
    "## 4. Anscombe's quartet"
   ]
  },
  {
   "cell_type": "markdown",
   "id": "4fbf86cb",
   "metadata": {},
   "source": [
    "Pour finir, nous allons illustrer les limitations de la régression par un exemple bien connu. Considérons les datasets suivants, appelé, 'Anscombe's quartet'."
   ]
  },
  {
   "cell_type": "code",
   "execution_count": 219,
   "id": "9cf97a0b",
   "metadata": {},
   "outputs": [],
   "source": [
    "x = np.array([10, 8, 13, 9, 11, 14, 6, 4, 12, 7, 5])\n",
    "y1 = np.array([8.04, 6.95, 7.58, 8.81, 8.33, 9.96, 7.24, 4.26, 10.84, 4.82, 5.68])\n",
    "y2 = np.array([9.14, 8.14, 8.74, 8.77, 9.26, 8.10, 6.13, 3.10, 9.13, 7.26, 4.74])\n",
    "y3 = np.array([7.46, 6.77, 12.74, 7.11, 7.81, 8.84, 6.08, 5.39, 8.15, 6.42, 5.73])\n",
    "x4 = np.array([8, 8, 8, 8, 8, 8, 8, 19, 8, 8, 8])\n",
    "y4 = np.array([6.58, 5.76, 7.71, 8.84, 8.47, 7.04, 5.25, 12.50, 5.56, 7.91, 6.89])\n",
    "\n",
    "datasets = {\n",
    "    'I': [x, y1],\n",
    "    'II': [x, y2],\n",
    "    'III': [x, y3],\n",
    "    'IV': [x4, y4]\n",
    "}"
   ]
  },
  {
   "cell_type": "markdown",
   "id": "578f830a",
   "metadata": {},
   "source": [
    "Pour commencer, et comme d'habitude, visualisons ces données."
   ]
  },
  {
   "cell_type": "code",
   "execution_count": 220,
   "id": "85132aa2",
   "metadata": {},
   "outputs": [
    {
     "data": {
      "image/png": "[encoded data removed]",
      "text/plain": [
       "<Figure size 432x432 with 4 Axes>"
      ]
     },
     "metadata": {
      "needs_background": "light"
     },
     "output_type": "display_data"
    }
   ],
   "source": [
    "# TODO: faire un plot des données"
   ]
  },
  {
   "cell_type": "markdown",
   "id": "5fbf4627",
   "metadata": {},
   "source": [
    "Maintenat, en utilisant nos fonctions, faites une régression linéaire pour chaque dataset."
   ]
  },
  {
   "cell_type": "code",
   "execution_count": 3,
   "id": "51731ee3",
   "metadata": {},
   "outputs": [],
   "source": [
    "# TODO: calculer la régression linéaire qui minimise notre loss function pour chaque dataset du dictionaire datasets."
   ]
  },
  {
   "cell_type": "markdown",
   "id": "a99708d0",
   "metadata": {},
   "source": [
    "Et finalement, on peut tracer ces régressions linéaire ainsi que les datasets."
   ]
  },
  {
   "cell_type": "code",
   "execution_count": null,
   "id": "af84e277",
   "metadata": {},
   "outputs": [],
   "source": [
    "# TODO: tracer les données ainsi que les régression linéaires calculées ci-dessus."
   ]
  }
 ],
 "metadata": {
  "kernelspec": {
   "display_name": "Python 3 (ipykernel)",
   "language": "python",
   "name": "python3"
  },
  "language_info": {
   "codemirror_mode": {
    "name": "ipython",
    "version": 3
   },
   "file_extension": ".py",
   "mimetype": "text/x-python",
   "name": "python",
   "nbconvert_exporter": "python",
   "pygments_lexer": "ipython3",
   "version": "3.11.7"
  }
 },
 "nbformat": 4,
 "nbformat_minor": 5
}
