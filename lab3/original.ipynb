{
 "cells": [
  {
   "cell_type": "markdown",
   "id": "1e8d791f",
   "metadata": {},
   "source": [
    "# Travail Pratique 3"
   ]
  },
  {
   "cell_type": "markdown",
   "id": "a152a5f0",
   "metadata": {},
   "source": [
    "<div class=\"alert alert-block alert-success\">\n",
    "<b>Informations générales </b>\n",
    "</div>\n",
    "\n",
    "**Professeur**: Stephan Robert\n",
    "\n",
    "**Assistant(s)**: Arthur Babey\n",
    "\n",
    "**Contact**: stephan.o.robert@gmail.com, arthur.babey@heig-vd.ch ou via Teams\n",
    "\n",
    "**Rendu**:\n",
    "\n",
    "- Date: 29 octobre\n",
    "- Modalité: Travail individuel. Une fois complétées, copiez les réponses dans le ficher \"**TP3_APV_S1-2024_Nom_Prenom.*****\" (*** = ce que vous voulez qui soit lisible pour nous: .pdf, .html, ...) en remplaçant Nom et Prénom par les votres puis uploader votre fichier sur Cyberlearn.\n",
    "- Note: Ce TP est noté sur 6, pour un poids de 12.5%\n",
    "\n",
    "**Étudiant**:\n",
    "\n",
    "- Julien Muhlemann\n",
    "\n",
    "<div class=\"alert alert-block alert-success\">\n",
    "\n",
    "<b>But du TP </b>\n",
    "</div>\n",
    "\n",
    "- Le but de ce travail pratique est de retrouver la fonction de densité $f_{\\theta}$ qui a générée un échantillon de points. Pour l'exercice 1, on va travailler avec des données discrètes et dans l'exercice 2, avec des données continues.\n",
    "- Pour déterminer $f_{\\theta}$, on va procéder de la manière suivante. Pour commencer, on va choisir plusieurs lois fonctions de densité candidats $f^{1}_{\\theta_{1}}, \\ldots f^{k}_{\\theta_{k}}$.  Ensuite, on va utiliser mle pour estimer les paramètres $\\theta_{1}, \\ldots \\theta_{k}$. Finalement, on va faire un plot de ces fonctions de densités ainsi que de la densité empirique. Finalement, en se basant sur ce graphe, on va essayer de retrouver la fonction de densité qui a générée cet échantillon.\n",
    "\n",
    "\n",
    "<!---\n",
    "<div class=\"alert alert-block alert-info\">\n",
    "<b>Rappel </b>\n",
    "</div>\n",
    "-->\n",
    "\n",
    "<div class=\"alert alert-block alert-success\">\n",
    "<b>Table des matières </b>\n",
    "</div>\n",
    "\n",
    "Exercice 1\n",
    ">* Visualisation des données\n",
    ">* Estimation des paramètres\n",
    ">* Représentation des distribution calculées.\n",
    ">* Estimation de la distribution\n",
    "\n",
    "\n",
    "Exercice 2\n",
    ">* Visualisation des données\n",
    ">* Estimation des paramètres\n",
    ">* Représentation des distribution calculées.\n",
    ">* Estimation de la distribution\n",
    "\n",
    "\n"
   ]
  },
  {
   "cell_type": "markdown",
   "id": "56200086",
   "metadata": {},
   "source": [
    "## Exercice 1"
   ]
  },
  {
   "cell_type": "markdown",
   "id": "4a543628",
   "metadata": {},
   "source": [
    "Commençons par importer quelques packages."
   ]
  },
  {
   "cell_type": "code",
   "execution_count": 4,
   "id": "224447af",
   "metadata": {},
   "outputs": [],
   "source": [
    "import numpy as np\n",
    "import pickle\n",
    "import matplotlib.pyplot as plt"
   ]
  },
  {
   "cell_type": "markdown",
   "id": "a6be0c97",
   "metadata": {},
   "source": [
    "Comme mentionné ci-dessus, la loi qui a générée les points présents dans le fichier 'data_ex1.pkl' est discrète."
   ]
  },
  {
   "cell_type": "markdown",
   "id": "e68afa47",
   "metadata": {},
   "source": [
    "### 1.1 Visualisation des données"
   ]
  },
  {
   "cell_type": "markdown",
   "id": "1ecbc6f9",
   "metadata": {},
   "source": [
    "Pour commencer, on va tracer la fonction de densité empirique utilisant notre échantillon."
   ]
  },
  {
   "cell_type": "code",
   "execution_count": 2,
   "id": "4db4fb31",
   "metadata": {},
   "outputs": [],
   "source": [
    "file = open(\"data_ex1.pkl\", \"rb\")\n",
    "data = pickle.load(file)"
   ]
  },
  {
   "cell_type": "code",
   "execution_count": 99,
   "id": "5b2f5d57",
   "metadata": {},
   "outputs": [
    {
     "data": {
      "image/png": "[encoded data removed]",
      "text/plain": [
       "<Figure size 432x288 with 1 Axes>"
      ]
     },
     "metadata": {
      "needs_background": "light"
     },
     "output_type": "display_data"
    }
   ],
   "source": [
    "# TODO : faire le plot de la fonction de densité empirique"
   ]
  },
  {
   "cell_type": "markdown",
   "id": "5f7f44c6",
   "metadata": {},
   "source": [
    "### 1.2 Estimation des paramètres"
   ]
  },
  {
   "cell_type": "markdown",
   "id": "0a1d3277",
   "metadata": {},
   "source": [
    "On va maintenant implémenter plusieurs fonctions de densités et calculer les mle des paramètres de ces fonctions de densité."
   ]
  },
  {
   "cell_type": "code",
   "execution_count": 5,
   "id": "86b439c6",
   "metadata": {},
   "outputs": [],
   "source": [
    "\"\"\"\n",
    "Un exemple pour la loi de Poisson\n",
    "\"\"\"\n",
    "\n",
    "# mle_estimation\n",
    "def poisson_mle(data):\n",
    "    return np.mean(data)\n",
    "\n",
    "# poisson density function\n",
    "def poisson_distribution(k, lmb):\n",
    "    tmp = (lmb ** k) / np.math.factorial(k)\n",
    "    return tmp * np.exp(-lmb)\n"
   ]
  },
  {
   "cell_type": "markdown",
   "id": "880be644",
   "metadata": {},
   "source": [
    "Procéder de la même manière pour au moins $3$ fonctions de densités différentes."
   ]
  },
  {
   "cell_type": "code",
   "execution_count": 5,
   "id": "91e06824",
   "metadata": {},
   "outputs": [],
   "source": [
    "# TODO : implement density functions and mle estimators for at least 3 different laws."
   ]
  },
  {
   "cell_type": "markdown",
   "id": "1287fba0",
   "metadata": {},
   "source": [
    "### 1.3 Représentation des distribution calculées."
   ]
  },
  {
   "cell_type": "markdown",
   "id": "2c61dd08",
   "metadata": {},
   "source": [
    "En utilisant les paramètres calculés au point précédent, tracer les distributions $f^{1}_{\\theta_{1}}, \\ldots f^{k}_{\\theta_{k}}$ ainsi que la densité empirique. Pour alléger le graphe, vous pouvez seulemement faire un plot des points. "
   ]
  },
  {
   "cell_type": "code",
   "execution_count": 8,
   "id": "c470c2ad",
   "metadata": {},
   "outputs": [
    {
     "data": {
      "text/plain": [
       "Text(0, 0.5, 'Densities')"
      ]
     },
     "execution_count": 8,
     "metadata": {},
     "output_type": "execute_result"
    },
    {
     "data": {
      "image/png": "[encoded data removed]",
      "text/plain": [
       "<Figure size 432x288 with 1 Axes>"
      ]
     },
     "metadata": {
      "needs_background": "light"
     },
     "output_type": "display_data"
    }
   ],
   "source": [
    "# TODO : plot the computed density functions and the empirical distribution"
   ]
  },
  {
   "cell_type": "markdown",
   "id": "d664f068",
   "metadata": {},
   "source": [
    "### 1.4 Estimation de la distribution"
   ]
  },
  {
   "cell_type": "markdown",
   "id": "7cb91200",
   "metadata": {},
   "source": [
    "Selon les résulats obtenus essayer de déterminer la loi qui a générée les données présentes dans 'data_ex1.pkl' ainsi que le $\\theta$ estimé."
   ]
  },
  {
   "cell_type": "code",
   "execution_count": null,
   "id": "4f490ddd",
   "metadata": {},
   "outputs": [],
   "source": [
    "# TODO: answer this question."
   ]
  },
  {
   "cell_type": "markdown",
   "id": "071fe786",
   "metadata": {},
   "source": [
    "## Exercice 2"
   ]
  },
  {
   "cell_type": "markdown",
   "id": "27452c97",
   "metadata": {},
   "source": [
    "Essayer de retrouver la distribution qui a générée les points présents dans le file ci-joint. Mais contrairement à l'exercice précédent, on travaille maintenant avec une distribution continue."
   ]
  },
  {
   "cell_type": "code",
   "execution_count": 9,
   "id": "02ffc3ef",
   "metadata": {},
   "outputs": [],
   "source": [
    "file = open(\"data_ex2.pkl\", \"rb\")\n",
    "data = pickle.load(file)"
   ]
  },
  {
   "cell_type": "markdown",
   "id": "62a9d58c",
   "metadata": {},
   "source": [
    "### 2.1 Visualisation des données"
   ]
  },
  {
   "cell_type": "markdown",
   "id": "356dd3b0",
   "metadata": {},
   "source": [
    "Comme d'habitude, on commence par faire le plot des données. Comme on travaille maintenant avec des données continues, il pourrait être pertinent d'utiliser des histogrammes plus petits,  (par exemple $ \\sim 0.1$)."
   ]
  },
  {
   "cell_type": "code",
   "execution_count": 103,
   "id": "f405e831",
   "metadata": {},
   "outputs": [
    {
     "data": {
      "image/png": "[encoded data removed]",
      "text/plain": [
       "<Figure size 432x288 with 1 Axes>"
      ]
     },
     "metadata": {
      "needs_background": "light"
     },
     "output_type": "display_data"
    }
   ],
   "source": [
    "# TODO : plot the empirical densities"
   ]
  },
  {
   "cell_type": "markdown",
   "id": "2785dbcd",
   "metadata": {},
   "source": [
    "### 2.2 Estimation des paramètres"
   ]
  },
  {
   "cell_type": "markdown",
   "id": "998b3127",
   "metadata": {},
   "source": [
    "Répéter la même procédure qu'à l'exercice $1.2$. Comme avant, on attend que vous tester au moins $3$ distributions différentes."
   ]
  },
  {
   "cell_type": "code",
   "execution_count": null,
   "id": "1e09852b",
   "metadata": {},
   "outputs": [],
   "source": [
    "# TODO implement some continuous density functions and their mle estimators"
   ]
  },
  {
   "cell_type": "markdown",
   "id": "b7b9697a",
   "metadata": {},
   "source": [
    "### 2.3 Représentation des distribution calculées."
   ]
  },
  {
   "cell_type": "markdown",
   "id": "108b07e3",
   "metadata": {},
   "source": [
    "En utilisant les paramètres calculés au point précédent, tracer les distributions $f^{1}_{\\theta_{1}}, \\ldots f^{k}_{\\theta_{k}}$."
   ]
  },
  {
   "cell_type": "code",
   "execution_count": null,
   "id": "0941cb3e",
   "metadata": {},
   "outputs": [],
   "source": [
    "# TODO : plot the computed density functions and the empirical density"
   ]
  },
  {
   "cell_type": "markdown",
   "id": "9010a47a",
   "metadata": {},
   "source": [
    "### 2.4 Estimation de la fonction de densité"
   ]
  },
  {
   "cell_type": "markdown",
   "id": "73b4db42",
   "metadata": {},
   "source": [
    "Selon les résulats obtenus essayer de déterminer la distribution qui a générée les données présentes dans 'data_ex2.pkl' ainsi que le $\\theta$ estimé."
   ]
  },
  {
   "cell_type": "code",
   "execution_count": null,
   "id": "b46e7ebf",
   "metadata": {},
   "outputs": [],
   "source": [
    "# TODO : answer this question."
   ]
  }
 ],
 "metadata": {
  "kernelspec": {
   "display_name": "Python 3 (ipykernel)",
   "language": "python",
   "name": "python3"
  },
  "language_info": {
   "codemirror_mode": {
    "name": "ipython",
    "version": 3
   },
   "file_extension": ".py",
   "mimetype": "text/x-python",
   "name": "python",
   "nbconvert_exporter": "python",
   "pygments_lexer": "ipython3",
   "version": "3.9.12"
  }
 },
 "nbformat": 4,
 "nbformat_minor": 5
}
